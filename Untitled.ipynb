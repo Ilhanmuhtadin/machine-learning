{
 "cells": [
  {
   "cell_type": "code",
   "execution_count": 8,
   "id": "0e88dd58",
   "metadata": {},
   "outputs": [
    {
     "name": "stdout",
     "output_type": "stream",
     "text": [
      "Versi TensorFlow yang terinstal: 2.13.0\n"
     ]
    }
   ],
   "source": [
    "import tensorflow as tf\n",
    "from keras.preprocessing.image import ImageDataGenerator\n",
    "print(\"Versi TensorFlow yang terinstal:\", tf.__version__)\n"
   ]
  },
  {
   "cell_type": "code",
   "execution_count": 9,
   "id": "356fcabe",
   "metadata": {},
   "outputs": [
    {
     "name": "stdout",
     "output_type": "stream",
     "text": [
      "Found 8000 images belonging to 2 classes.\n"
     ]
    }
   ],
   "source": [
    "train_datagen = ImageDataGenerator(rescale = 1./255,\n",
    "                                   shear_range = 0.2,\n",
    "                                   zoom_range = 0.2,\n",
    "                                   horizontal_flip = True)\n",
    "training_set = train_datagen.flow_from_directory('dataset/training_set',\n",
    "                                                 target_size = (64, 64),\n",
    "                                                 batch_size = 32,\n",
    "                                                 class_mode = 'binary')"
   ]
  },
  {
   "cell_type": "code",
   "execution_count": 10,
   "id": "82f85883",
   "metadata": {},
   "outputs": [
    {
     "name": "stdout",
     "output_type": "stream",
     "text": [
      "Found 2000 images belonging to 2 classes.\n"
     ]
    }
   ],
   "source": [
    "test_datagen = ImageDataGenerator(rescale = 1./255)\n",
    "test_set = test_datagen.flow_from_directory('dataset/test_set',\n",
    "                                            target_size = (64, 64),\n",
    "                                            batch_size = 32,\n",
    "                                            class_mode = 'binary')"
   ]
  },
  {
   "cell_type": "code",
   "execution_count": null,
   "id": "da0cbf81",
   "metadata": {},
   "outputs": [],
   "source": []
  },
  {
   "cell_type": "code",
   "execution_count": 11,
   "id": "5c8ce4b3",
   "metadata": {},
   "outputs": [],
   "source": [
    "#Initialising the CNN\n",
    "cnn = tf.keras.models.Sequential()\n",
    "\n",
    "#Step 1 - Convolution\n",
    "cnn.add(tf.keras.layers.Conv2D(filters=32, kernel_size=3, activation='relu', input_shape=[64, 64, 3]))\n",
    "\n",
    "#Step 2 - Pooling¶\n",
    "cnn.add(tf.keras.layers.MaxPool2D(pool_size=2, strides=2))\n",
    "\n",
    "#Adding a second convolutional layer\n",
    "cnn.add(tf.keras.layers.Conv2D(filters=64, kernel_size=3, activation='relu'))\n",
    "cnn.add(tf.keras.layers.MaxPool2D(pool_size=2, strides=2))\n",
    "\n",
    "#Adding a third convolutional layer\n",
    "cnn.add(tf.keras.layers.Conv2D(filters=128, kernel_size=3, activation='relu'))\n",
    "cnn.add(tf.keras.layers.MaxPool2D(pool_size=2, strides=2))\n",
    "\n",
    "#Step 3 - Flattening\n",
    "cnn.add(tf.keras.layers.Flatten())\n",
    "\n",
    "#Step 4 - Full Connection\n",
    "cnn.add(tf.keras.layers.Dense(units=128, activation='relu'))\n",
    "\n",
    "#Step 5 - Output Layer\n",
    "cnn.add(tf.keras.layers.Dense(units=1, activation='sigmoid'))\n",
    "\n",
    "#Compiling the CNN\n",
    "cnn.compile(optimizer='adam', loss='binary_crossentropy', metrics=['accuracy'])\n",
    "\n",
    "\n"
   ]
  },
  {
   "cell_type": "code",
   "execution_count": null,
   "id": "07f129f0",
   "metadata": {},
   "outputs": [
    {
     "name": "stdout",
     "output_type": "stream",
     "text": [
      "Epoch 1/25\n",
      "250/250 [==============================] - 105s 412ms/step - loss: 0.6867 - accuracy: 0.5399 - val_loss: 0.6681 - val_accuracy: 0.6200\n",
      "Epoch 2/25\n",
      "250/250 [==============================] - 98s 390ms/step - loss: 0.6189 - accuracy: 0.6547 - val_loss: 0.5671 - val_accuracy: 0.7110\n",
      "Epoch 3/25\n",
      "250/250 [==============================] - 101s 403ms/step - loss: 0.5618 - accuracy: 0.7113 - val_loss: 0.5412 - val_accuracy: 0.7340\n",
      "Epoch 4/25\n",
      "250/250 [==============================] - 97s 387ms/step - loss: 0.5341 - accuracy: 0.7287 - val_loss: 0.5257 - val_accuracy: 0.7450\n",
      "Epoch 5/25\n",
      "250/250 [==============================] - 97s 389ms/step - loss: 0.4939 - accuracy: 0.7599 - val_loss: 0.4627 - val_accuracy: 0.7785\n",
      "Epoch 6/25\n",
      "250/250 [==============================] - 98s 393ms/step - loss: 0.4743 - accuracy: 0.7756 - val_loss: 0.4457 - val_accuracy: 0.7940\n",
      "Epoch 7/25\n",
      "250/250 [==============================] - 97s 389ms/step - loss: 0.4476 - accuracy: 0.7885 - val_loss: 0.5128 - val_accuracy: 0.7505\n",
      "Epoch 8/25\n",
      "250/250 [==============================] - 89s 357ms/step - loss: 0.4358 - accuracy: 0.7931 - val_loss: 0.4276 - val_accuracy: 0.8020\n",
      "Epoch 9/25\n",
      "250/250 [==============================] - 92s 367ms/step - loss: 0.4160 - accuracy: 0.8077 - val_loss: 0.4411 - val_accuracy: 0.7935\n",
      "Epoch 10/25\n",
      "250/250 [==============================] - 93s 372ms/step - loss: 0.3895 - accuracy: 0.8221 - val_loss: 0.4009 - val_accuracy: 0.8195\n",
      "Epoch 11/25\n",
      "250/250 [==============================] - 95s 378ms/step - loss: 0.3793 - accuracy: 0.8286 - val_loss: 0.4039 - val_accuracy: 0.8170\n",
      "Epoch 12/25\n",
      "250/250 [==============================] - 90s 360ms/step - loss: 0.3601 - accuracy: 0.8385 - val_loss: 0.3986 - val_accuracy: 0.8170\n",
      "Epoch 13/25\n",
      "250/250 [==============================] - 92s 369ms/step - loss: 0.3548 - accuracy: 0.8400 - val_loss: 0.3597 - val_accuracy: 0.8445\n",
      "Epoch 14/25\n",
      "250/250 [==============================] - 80s 321ms/step - loss: 0.3326 - accuracy: 0.8521 - val_loss: 0.3747 - val_accuracy: 0.8375\n",
      "Epoch 15/25\n",
      "250/250 [==============================] - 95s 379ms/step - loss: 0.3230 - accuracy: 0.8539 - val_loss: 0.3792 - val_accuracy: 0.8355\n",
      "Epoch 16/25\n",
      "250/250 [==============================] - 139s 558ms/step - loss: 0.3213 - accuracy: 0.8543 - val_loss: 0.3801 - val_accuracy: 0.8425\n",
      "Epoch 17/25\n",
      "250/250 [==============================] - 112s 447ms/step - loss: 0.3033 - accuracy: 0.8670 - val_loss: 0.3953 - val_accuracy: 0.8255\n",
      "Epoch 18/25\n",
      "250/250 [==============================] - 109s 435ms/step - loss: 0.2895 - accuracy: 0.8721 - val_loss: 0.3814 - val_accuracy: 0.8295\n",
      "Epoch 19/25\n",
      "250/250 [==============================] - 114s 455ms/step - loss: 0.2767 - accuracy: 0.8790 - val_loss: 0.3875 - val_accuracy: 0.8300\n",
      "Epoch 20/25\n",
      "250/250 [==============================] - 120s 482ms/step - loss: 0.2674 - accuracy: 0.8819 - val_loss: 0.4168 - val_accuracy: 0.8235\n",
      "Epoch 21/25\n",
      "250/250 [==============================] - 119s 475ms/step - loss: 0.2607 - accuracy: 0.8892 - val_loss: 0.4531 - val_accuracy: 0.8105\n",
      "Epoch 22/25\n",
      "250/250 [==============================] - 125s 501ms/step - loss: 0.2540 - accuracy: 0.8894 - val_loss: 0.3683 - val_accuracy: 0.8410\n",
      "Epoch 23/25\n",
      "250/250 [==============================] - 120s 477ms/step - loss: 0.2378 - accuracy: 0.8970 - val_loss: 0.3964 - val_accuracy: 0.8225\n",
      "Epoch 24/25\n",
      "250/250 [==============================] - 118s 474ms/step - loss: 0.2365 - accuracy: 0.9006 - val_loss: 0.3948 - val_accuracy: 0.8415\n",
      "Epoch 25/25\n",
      "167/250 [===================>..........] - ETA: 31s - loss: 0.2248 - accuracy: 0.9046"
     ]
    }
   ],
   "source": [
    "#Training the CNN on the Training set and evaluating it on the Test set\n",
    "cnn.fit(x=training_set, validation_data=test_set, epochs=25)"
   ]
  },
  {
   "cell_type": "code",
   "execution_count": null,
   "id": "20347c3a",
   "metadata": {},
   "outputs": [],
   "source": []
  }
 ],
 "metadata": {
  "kernelspec": {
   "display_name": "Python 3 (ipykernel)",
   "language": "python",
   "name": "python3"
  },
  "language_info": {
   "codemirror_mode": {
    "name": "ipython",
    "version": 3
   },
   "file_extension": ".py",
   "mimetype": "text/x-python",
   "name": "python",
   "nbconvert_exporter": "python",
   "pygments_lexer": "ipython3",
   "version": "3.9.12"
  }
 },
 "nbformat": 4,
 "nbformat_minor": 5
}
